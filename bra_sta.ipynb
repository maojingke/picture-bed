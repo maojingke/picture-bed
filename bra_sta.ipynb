{
 "cells": [
  {
   "cell_type": "markdown",
   "metadata": {},
   "source": [
    "## 调用第三方库"
   ]
  },
  {
   "cell_type": "code",
   "execution_count": 1,
   "metadata": {},
   "outputs": [],
   "source": [
    "import numpy as np\n",
    "import pandas as pd\n",
    "import matplotlib\n",
    "import matplotlib.pyplot as plt\n",
    "matplotlib.rcParams['font.sans-serif'] = ['SimHei']    # 用于显示所有中文\n",
    "import re    # re库用于设置正则表达式\n",
    "import warnings    #用于设置忽略警告\n",
    "warnings.filterwarnings(\"ignore\")"
   ]
  },
  {
   "cell_type": "markdown",
   "metadata": {},
   "source": [
    "## 从计算机本地读入数据"
   ]
  },
  {
   "cell_type": "code",
   "execution_count": 12,
   "metadata": {},
   "outputs": [],
   "source": [
    "df_bra = pd.read_csv('D:/mjk-git/bra/bra.csv')\n",
    "df_color = pd.read_csv('D:/mjk-git/bra/colors.csv',index_col = 0)"
   ]
  },
  {
   "cell_type": "markdown",
   "metadata": {},
   "source": [
    "## 对两数据进行合并处理，再提取出有用的信息"
   ]
  },
  {
   "cell_type": "code",
   "execution_count": 13,
   "metadata": {},
   "outputs": [
    {
     "data": {
      "text/html": [
       "<div>\n",
       "<style scoped>\n",
       "    .dataframe tbody tr th:only-of-type {\n",
       "        vertical-align: middle;\n",
       "    }\n",
       "\n",
       "    .dataframe tbody tr th {\n",
       "        vertical-align: top;\n",
       "    }\n",
       "\n",
       "    .dataframe thead th {\n",
       "        text-align: right;\n",
       "    }\n",
       "</style>\n",
       "<table border=\"1\" class=\"dataframe\">\n",
       "  <thead>\n",
       "    <tr style=\"text-align: right;\">\n",
       "      <th></th>\n",
       "      <th>creationTime</th>\n",
       "      <th>color</th>\n",
       "      <th>productSize</th>\n",
       "    </tr>\n",
       "  </thead>\n",
       "  <tbody>\n",
       "    <tr>\n",
       "      <th>0</th>\n",
       "      <td>2016-06-08 17:17:00</td>\n",
       "      <td>棕色</td>\n",
       "      <td>75C</td>\n",
       "    </tr>\n",
       "    <tr>\n",
       "      <th>1</th>\n",
       "      <td>2017-04-07 19:34:25</td>\n",
       "      <td>棕色</td>\n",
       "      <td>80B</td>\n",
       "    </tr>\n",
       "    <tr>\n",
       "      <th>2</th>\n",
       "      <td>2017-08-03 20:39:18</td>\n",
       "      <td>棕色</td>\n",
       "      <td>80B</td>\n",
       "    </tr>\n",
       "    <tr>\n",
       "      <th>3</th>\n",
       "      <td>2016-07-06 14:02:08</td>\n",
       "      <td>棕色</td>\n",
       "      <td>75B</td>\n",
       "    </tr>\n",
       "    <tr>\n",
       "      <th>4</th>\n",
       "      <td>2017-03-18 11:49:55</td>\n",
       "      <td>棕色</td>\n",
       "      <td>80B</td>\n",
       "    </tr>\n",
       "    <tr>\n",
       "      <th>...</th>\n",
       "      <td>...</td>\n",
       "      <td>...</td>\n",
       "      <td>...</td>\n",
       "    </tr>\n",
       "    <tr>\n",
       "      <th>15491</th>\n",
       "      <td>2017-11-03 16:39:13</td>\n",
       "      <td>粉色</td>\n",
       "      <td>34A/75A</td>\n",
       "    </tr>\n",
       "    <tr>\n",
       "      <th>15492</th>\n",
       "      <td>2017-11-07 23:03:10</td>\n",
       "      <td>粉色</td>\n",
       "      <td>34B/75B</td>\n",
       "    </tr>\n",
       "    <tr>\n",
       "      <th>15493</th>\n",
       "      <td>2017-11-14 17:25:37</td>\n",
       "      <td>粉色</td>\n",
       "      <td>34A/75A</td>\n",
       "    </tr>\n",
       "    <tr>\n",
       "      <th>15494</th>\n",
       "      <td>2017-11-11 00:13:32</td>\n",
       "      <td>粉色</td>\n",
       "      <td>36C/80C</td>\n",
       "    </tr>\n",
       "    <tr>\n",
       "      <th>15495</th>\n",
       "      <td>2016-12-20 13:51:34</td>\n",
       "      <td>粉色</td>\n",
       "      <td>34B=75B</td>\n",
       "    </tr>\n",
       "  </tbody>\n",
       "</table>\n",
       "<p>15496 rows × 3 columns</p>\n",
       "</div>"
      ],
      "text/plain": [
       "              creationTime color productSize\n",
       "0      2016-06-08 17:17:00    棕色         75C\n",
       "1      2017-04-07 19:34:25    棕色         80B\n",
       "2      2017-08-03 20:39:18    棕色         80B\n",
       "3      2016-07-06 14:02:08    棕色         75B\n",
       "4      2017-03-18 11:49:55    棕色         80B\n",
       "...                    ...   ...         ...\n",
       "15491  2017-11-03 16:39:13    粉色     34A/75A\n",
       "15492  2017-11-07 23:03:10    粉色     34B/75B\n",
       "15493  2017-11-14 17:25:37    粉色     34A/75A\n",
       "15494  2017-11-11 00:13:32    粉色     36C/80C\n",
       "15495  2016-12-20 13:51:34    粉色     34B=75B\n",
       "\n",
       "[15496 rows x 3 columns]"
      ]
     },
     "execution_count": 13,
     "metadata": {},
     "output_type": "execute_result"
    }
   ],
   "source": [
    "df_merge = pd.merge(df_bra, df_color, left_on = 'productColor', right_on = '0')\n",
    "df_merge = df_merge.dropna()\n",
    "df_merge = df_merge.reset_index(drop = True)\n",
    "df_merge.rename(columns = {'1': 'color'}, inplace = True)\n",
    "df_merge = df_merge[['creationTime','color','productSize']]\n",
    "df_merge"
   ]
  },
  {
   "cell_type": "markdown",
   "metadata": {},
   "source": [
    "## 设置正则表达式"
   ]
  },
  {
   "cell_type": "code",
   "execution_count": 14,
   "metadata": {},
   "outputs": [],
   "source": [
    "re_str_one = re.compile(r'[7-9]\\d[a-z]',re.I)\n",
    "re_str_two = re.compile(r'[a-z][7-9]\\d',re.I)\n",
    "re_str_three = re.compile(r'[7-9]\\d/\\d{2}[a-z]',re.I)"
   ]
  },
  {
   "cell_type": "markdown",
   "metadata": {},
   "source": [
    "## 对productSize进行清洗"
   ]
  },
  {
   "cell_type": "code",
   "execution_count": 15,
   "metadata": {},
   "outputs": [
    {
     "data": {
      "text/html": [
       "<div>\n",
       "<style scoped>\n",
       "    .dataframe tbody tr th:only-of-type {\n",
       "        vertical-align: middle;\n",
       "    }\n",
       "\n",
       "    .dataframe tbody tr th {\n",
       "        vertical-align: top;\n",
       "    }\n",
       "\n",
       "    .dataframe thead th {\n",
       "        text-align: right;\n",
       "    }\n",
       "</style>\n",
       "<table border=\"1\" class=\"dataframe\">\n",
       "  <thead>\n",
       "    <tr style=\"text-align: right;\">\n",
       "      <th></th>\n",
       "      <th>creationTime</th>\n",
       "      <th>color</th>\n",
       "      <th>productSize</th>\n",
       "    </tr>\n",
       "  </thead>\n",
       "  <tbody>\n",
       "    <tr>\n",
       "      <th>0</th>\n",
       "      <td>2016-06-08 17:17:00</td>\n",
       "      <td>棕色</td>\n",
       "      <td>75C</td>\n",
       "    </tr>\n",
       "    <tr>\n",
       "      <th>1</th>\n",
       "      <td>2017-04-07 19:34:25</td>\n",
       "      <td>棕色</td>\n",
       "      <td>80B</td>\n",
       "    </tr>\n",
       "    <tr>\n",
       "      <th>2</th>\n",
       "      <td>2017-08-03 20:39:18</td>\n",
       "      <td>棕色</td>\n",
       "      <td>80B</td>\n",
       "    </tr>\n",
       "    <tr>\n",
       "      <th>3</th>\n",
       "      <td>2016-07-06 14:02:08</td>\n",
       "      <td>棕色</td>\n",
       "      <td>75B</td>\n",
       "    </tr>\n",
       "    <tr>\n",
       "      <th>4</th>\n",
       "      <td>2017-03-18 11:49:55</td>\n",
       "      <td>棕色</td>\n",
       "      <td>80B</td>\n",
       "    </tr>\n",
       "    <tr>\n",
       "      <th>...</th>\n",
       "      <td>...</td>\n",
       "      <td>...</td>\n",
       "      <td>...</td>\n",
       "    </tr>\n",
       "    <tr>\n",
       "      <th>15491</th>\n",
       "      <td>2017-11-03 16:39:13</td>\n",
       "      <td>粉色</td>\n",
       "      <td>75A</td>\n",
       "    </tr>\n",
       "    <tr>\n",
       "      <th>15492</th>\n",
       "      <td>2017-11-07 23:03:10</td>\n",
       "      <td>粉色</td>\n",
       "      <td>75B</td>\n",
       "    </tr>\n",
       "    <tr>\n",
       "      <th>15493</th>\n",
       "      <td>2017-11-14 17:25:37</td>\n",
       "      <td>粉色</td>\n",
       "      <td>75A</td>\n",
       "    </tr>\n",
       "    <tr>\n",
       "      <th>15494</th>\n",
       "      <td>2017-11-11 00:13:32</td>\n",
       "      <td>粉色</td>\n",
       "      <td>80C</td>\n",
       "    </tr>\n",
       "    <tr>\n",
       "      <th>15495</th>\n",
       "      <td>2016-12-20 13:51:34</td>\n",
       "      <td>粉色</td>\n",
       "      <td>75B</td>\n",
       "    </tr>\n",
       "  </tbody>\n",
       "</table>\n",
       "<p>15496 rows × 3 columns</p>\n",
       "</div>"
      ],
      "text/plain": [
       "              creationTime color productSize\n",
       "0      2016-06-08 17:17:00    棕色         75C\n",
       "1      2017-04-07 19:34:25    棕色         80B\n",
       "2      2017-08-03 20:39:18    棕色         80B\n",
       "3      2016-07-06 14:02:08    棕色         75B\n",
       "4      2017-03-18 11:49:55    棕色         80B\n",
       "...                    ...   ...         ...\n",
       "15491  2017-11-03 16:39:13    粉色         75A\n",
       "15492  2017-11-07 23:03:10    粉色         75B\n",
       "15493  2017-11-14 17:25:37    粉色         75A\n",
       "15494  2017-11-11 00:13:32    粉色         80C\n",
       "15495  2016-12-20 13:51:34    粉色         75B\n",
       "\n",
       "[15496 rows x 3 columns]"
      ]
     },
     "execution_count": 15,
     "metadata": {},
     "output_type": "execute_result"
    }
   ],
   "source": [
    "for i in range(len(df_merge)):\n",
    "    try:\n",
    "        re_data_one = re_str_one.findall(df_merge['productSize'][i])\n",
    "        re_data_two = re_str_two.findall(df_merge['productSize'][i])\n",
    "        re_data_three = re_str_three.findall(df_merge['productSize'][i])\n",
    "        if re_data_one:\n",
    "            df_merge['productSize'][i] = re_data_one[0][0:2] + re_data_one[0][-1].upper()\n",
    "        if re_data_two:\n",
    "            df_merge['productSize'][i] = re_data_two[0][1:] + re_data_two[0][0].upper()\n",
    "        if re_data_three:\n",
    "            df_merge['productSize'][i] = re_data_three[0][0:2] + re_data_three[0][-1].upper()\n",
    "        else:\n",
    "            continue\n",
    "    except:\n",
    "        continue\n",
    "df_merge"
   ]
  },
  {
   "cell_type": "markdown",
   "metadata": {},
   "source": [
    "## 对多余的数据进行删除处理"
   ]
  },
  {
   "cell_type": "code",
   "execution_count": 16,
   "metadata": {},
   "outputs": [],
   "source": [
    "a = df_merge[(df_merge['productSize']=='165/76/L')|(df_merge['productSize']=='160/70/M')|(df_merge['productSize']=='170/82/XL')].index.tolist()\n",
    "for i in a:\n",
    "    df_merge.drop(i, axis = 0, inplace = True)"
   ]
  },
  {
   "cell_type": "markdown",
   "metadata": {},
   "source": [
    "## 统计不同颜色与尺码的频数"
   ]
  },
  {
   "cell_type": "code",
   "execution_count": 17,
   "metadata": {},
   "outputs": [
    {
     "data": {
      "text/plain": [
       "95E       1\n",
       "90E       3\n",
       "95D       4\n",
       "95C       4\n",
       "90A       4\n",
       "75E       5\n",
       "80E       8\n",
       "85E      17\n",
       "80D      18\n",
       "85D      20\n",
       "90B      20\n",
       "90D      21\n",
       "70C      27\n",
       "90C      39\n",
       "85A     100\n",
       "70A     171\n",
       "85C     259\n",
       "80A     270\n",
       "75C     357\n",
       "75D     360\n",
       "70B     459\n",
       "75A     488\n",
       "80C     581\n",
       "85B     998\n",
       "80B    3968\n",
       "75B    6954\n",
       "Name: productSize, dtype: int64"
      ]
     },
     "execution_count": 17,
     "metadata": {},
     "output_type": "execute_result"
    }
   ],
   "source": [
    "df_merge_count_color = df_merge['color'].value_counts(ascending = True)\n",
    "df_merge_count_Size = df_merge['productSize'].value_counts(ascending = True)\n",
    "df_merge_count_Size"
   ]
  },
  {
   "cell_type": "markdown",
   "metadata": {},
   "source": [
    "## 对统计得到的数据进行可视化处理"
   ]
  },
  {
   "cell_type": "code",
   "execution_count": 8,
   "metadata": {},
   "outputs": [
    {
     "data": {
      "image/png": "[encoded data removed]",
      "text/plain": [
       "<Figure size 720x432 with 1 Axes>"
      ]
     },
     "metadata": {
      "needs_background": "light"
     },
     "output_type": "display_data"
    }
   ],
   "source": [
    "matplotlib.rcParams['figure.figsize'] = 10, 6    # 设置画布大小\n",
    "x_color_label = df_merge_count_color.keys()    # 横坐标\n",
    "y_color_value = df_merge_count_color.values    # 纵坐标\n",
    "plt.bar(x_color_label, y_color_value, align = 'center', alpha = 0.5)    # 设置直方图参数\n",
    "plt.suptitle('bra颜色分类统计', fontsize = 18)\n",
    "plt.xticks(fontsize = 18, rotation = 45)\n",
    "plt.yticks(fontsize = 18)\n",
    "plt.xlabel('颜色', fontsize = 18)\n",
    "plt.show()"
   ]
  },
  {
   "cell_type": "code",
   "execution_count": 11,
   "metadata": {},
   "outputs": [
    {
     "data": {
      "image/png": "[encoded data removed]",
      "text/plain": [
       "<Figure size 1440x720 with 1 Axes>"
      ]
     },
     "metadata": {
      "needs_background": "light"
     },
     "output_type": "display_data"
    }
   ],
   "source": [
    "matplotlib.rcParams['figure.figsize'] =20, 10    # 设置画布大小\n",
    "x_size_label = df_merge_count_Size.keys()    # 横坐标\n",
    "y_size_label = df_merge_count_Size.values    # 纵坐标\n",
    "plt.bar(x_size_label[-12:], y_size_label[-12:], align = 'center', alpha = 0.5, color = 'red')\n",
    "plt.xticks(fontsize = 20, rotation = 45)\n",
    "plt.yticks(fontsize = 20)\n",
    "plt.xlabel('尺码', fontsize = 24)\n",
    "plt.suptitle('bra尺码频数统计', fontsize = 28)\n",
    "plt.show()"
   ]
  },
  {
   "cell_type": "code",
   "execution_count": null,
   "metadata": {},
   "outputs": [],
   "source": []
  }
 ],
 "metadata": {
  "kernelspec": {
   "display_name": "Python 3",
   "language": "python",
   "name": "python3"
  },
  "language_info": {
   "codemirror_mode": {
    "name": "ipython",
    "version": 3
   },
   "file_extension": ".py",
   "mimetype": "text/x-python",
   "name": "python",
   "nbconvert_exporter": "python",
   "pygments_lexer": "ipython3",
   "version": "3.8.3"
  }
 },
 "nbformat": 4,
 "nbformat_minor": 4
}
