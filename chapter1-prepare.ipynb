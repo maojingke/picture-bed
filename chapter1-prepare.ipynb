{
 "cells": [
  {
   "cell_type": "markdown",
   "metadata": {},
   "source": [
    "# 利用python进行数据分析"
   ]
  },
  {
   "cell_type": "markdown",
   "metadata": {},
   "source": [
    "## 第一章---准备工作\n",
    "### python的优点\n",
    "- 脚本语言，可用于快速编写小型程序、脚本或对其他任务进行自动化；  \n",
    "- 可以作为“胶水”，它很容易整合C、C++和FORTRAN等语言的代码；  \n",
    "- 解决了“双语言”难题，python既适用于研究和原型发现，也适合搭建生产系统。\n",
    "\n",
    "### python的缺点  \n",
    "- 虽然python可以为很多分析应用和通用系统提供一个优秀环境，但仍有一些场景不适合python；  \n",
    "- python是一个解释型语言，大多情况下python代码的运行效率会低于Java或C++等编译型语言；通常情况下我们认为开发者时间比CPU时间更有价值，就愉快的选择了python；然而当我们需要一款低延迟、高资源利用要求的应用时（如高频交易系统），为了尽可能提高性能，在底层语言（如C++）上花费编程时间将会更加值得  \n",
    "- python也不适用于搭建高并发、多线程应用，尤其时多CPU绑定线程时，使用python会成为一个挑战。原因在于python拥有全局解释器锁（GIL），这是一种防止解释器同时执行多个python指令的机制。"
   ]
  },
  {
   "cell_type": "markdown",
   "metadata": {},
   "source": [
    "## 重要的python库介绍\n",
    "### 1.Numpy库\n",
    "- Numpy库是python数值计算的基石。它提供多种数据结构、算法以及大部分涉及Python数值计算所需要的接口。  \n",
    "- Numpy还包括：快速高效的多维数组对象ndarray（数组）；\n",
    "- 基于元素的数组计算或数组间数学操作函数；\n",
    "- 用于读写硬盘中基于数组的数据集的工具；\n",
    "- 线性代数操作、傅里叶变换以及随机数生成；\n",
    "- 成熟的C语言API，允许python拓展和本地的C或C++代码访问Numpy的数据结构和计算设施；\n",
    "- NumPy的另一个主要用途是在算法和库之间作为数据传递的数据容器。\n",
    "\n",
    "### 2.pandas库\n",
    "\n",
    "### 3.matplotlib库\n",
    "\n",
    "### 4.SciPy（科学计算领域针对不同标准问题域的包集合）\n",
    "- 以下是SciPy包含的一些包：\n",
    "1. scipy.integrate：数值积分例程和微分方程求解器  \n",
    "2. scipy.linalg：线性代数例程和基于numpy.linalg的矩阵分解\n",
    "3. scipy.optimize：函数优化器（最小化器）和求根算法  \n",
    "4. scipy.signal：信号处理工具\n",
    "5. scipy.sparse：稀疏矩阵与稀疏线性系统求解器  \n",
    "6. scipy.special：SPECFUN的包装器。SPECFUN是Fortran语言下实现通用数据函数的包。例如gamma函数  \n",
    "7. scipy.stats：标准的连续和离散概率分布（密度函数、采样器、连续分布函数）、各类统计测试、各类描述性统计  \n",
    "- scipy和numpy一起为很多传统科学计算应用提供了一个合理、完整、成熟的计算基础。\n",
    "\n",
    "### 5.scikit-learn（python编程者首选机器学习包）\n",
    "- 分类：SVM、最近邻、随机森林、逻辑回归等\n",
    "- 回归：lasso、岭回归等\n",
    "- 聚类：k-means、谱聚类等\n",
    "- 降维：PCA、特征选择、矩阵分解等\n",
    "- 模型选择： 网格搜索、交叉验证、指标矩阵\n",
    "- 预处理：特征提取、正态化  \n",
    "\n",
    "### 6.statsmodels（一个统计分析包）\n",
    "- 与scikit-learn相比，statsmodels包含经典的（高频词汇）统计学、经济学算法，所包含模型如下：\n",
    "1. 回归模型：线性回归、通用线性模型、鲁棒（稳健）线性模型、线性混合效应模型等\n",
    "2. 方差分析(ANOVA）\n",
    "3. 时间序列分析：AR、ARMA、ARIMA、VAR等模型\n",
    "4. 非参数方法：核密度估计、核回归\n",
    "5. 统计模型结果可视化\n",
    "- statsmodels更专注于统计推理，提供不确定性评价和P值参数。相反，scikit-learn更专注于预测。"
   ]
  }
 ],
 "metadata": {
  "kernelspec": {
   "display_name": "Python 3",
   "language": "python",
   "name": "python3"
  },
  "language_info": {
   "codemirror_mode": {
    "name": "ipython",
    "version": 3
   },
   "file_extension": ".py",
   "mimetype": "text/x-python",
   "name": "python",
   "nbconvert_exporter": "python",
   "pygments_lexer": "ipython3",
   "version": "3.8.3"
  }
 },
 "nbformat": 4,
 "nbformat_minor": 4
}
